{
 "cells": [
  {
   "cell_type": "markdown",
   "metadata": {},
   "source": [
    "Grabbing MLB player's Tweets\n",
    "====\n",
    "\n",
    "Based on this code: http://geduldig.github.io/TwitterAPI/faulttolerance.html"
   ]
  },
  {
   "cell_type": "code",
   "execution_count": 1,
   "metadata": {
    "collapsed": false
   },
   "outputs": [],
   "source": [
    "reset -fs"
   ]
  },
  {
   "cell_type": "code",
   "execution_count": 2,
   "metadata": {
    "collapsed": true
   },
   "outputs": [],
   "source": [
    "from itertools import islice\n",
    "from time import sleep\n",
    "\n",
    "from credentials import credentials\n",
    "from ftfy import fix_text\n",
    "from textblob import TextBlob\n",
    "from TwitterAPI import TwitterAPI\n",
    "from TwitterAPI import TwitterRestPager\n",
    "from TwitterAPI import TwitterRequestError\n",
    "from TwitterAPI import TwitterConnectionError\n",
    "import pandas as pd\n",
    "from collections import defaultdict\n",
    "import time\n",
    "import json\n",
    "import os\n",
    "import sys\n",
    "from credentials import credentials\n",
    "from pprint import pprint"
   ]
  },
  {
   "cell_type": "code",
   "execution_count": 3,
   "metadata": {
    "collapsed": true
   },
   "outputs": [],
   "source": [
    "creds = credentials.require(['access_token', \n",
    "                             'access_token_secret', \n",
    "                             'consumer_key',\n",
    "                             'consumer_secret'])"
   ]
  },
  {
   "cell_type": "code",
   "execution_count": null,
   "metadata": {
    "collapsed": true
   },
   "outputs": [],
   "source": [
    "api = TwitterAPI(creds.consumer_key,\n",
    "                 creds.consumer_secret,\n",
    "                 creds.access_token,\n",
    "                 creds.access_token_secret,\n",
    "                 auth_type='oAuth2')"
   ]
  },
  {
   "cell_type": "code",
   "execution_count": 18,
   "metadata": {
    "collapsed": true
   },
   "outputs": [],
   "source": [
    "#Variables that contains the user credentials to access Twitter API \n",
    "# Load credentials from ~/.credentials.json\n",
    "creds = credentials.require(['access_token', \n",
    "                             'access_token_secret', \n",
    "                             'consumer_key',\n",
    "                             'consumer_secret'])\n",
    "\n",
    "api = TwitterAPI(creds.consumer_key,\n",
    "                 creds.consumer_secret,\n",
    "                 creds.access_token,\n",
    "                 creds.access_token_secret,\n",
    "                 auth_type='oAuth2')\n",
    "#Grab Draft King data\n",
    "data_pitchers = pd.read_csv(\"../Data_Engineering_Project/data/pitchers_2016_06_26.csv\")\n",
    "data_batters = pd.read_csv(\"../Data_Engineering_Project/data/batters_2016_06_26.csv\")\n",
    "data_DK = pd.read_csv(\"../Data_Engineering_Project/data/DKSalaries_2016_06_26.csv\")\n",
    "\n",
    "#Grab the players\n",
    "pitchers_names = data_pitchers[\"Player Name\"]\n",
    "batters_names = data_batters[\"Player Name\"]\n",
    "DK_names = data_DK[\"Name\"]\n",
    "#Concatenate the batters and pitchers and drop dups\n",
    "frames = [pitchers_names,batters_names]\n",
    "all_players= pd.concat(frames)\n",
    "all_players = all_players.drop_duplicates()\n",
    "#Do some data cleaning so that the Data is easier to match up later\n",
    "lst = []\n",
    "for i in all_players:\n",
    "    test = i.split(\",\")\n",
    "    test[0],test[1] = test[1],test[0]\n",
    "    test = test[0].strip() + \" \" + test[1]\n",
    "    lst.append(test)"
   ]
  },
  {
   "cell_type": "code",
   "execution_count": 4,
   "metadata": {
    "collapsed": false
   },
   "outputs": [],
   "source": [
    "#build list of iterators\n",
    "iterator_list = [TwitterRestPager(api, 'search/tweets', {'q':name}).get_iterator(wait=2)for name in all_players]\n",
    "\n",
    "player_dict = defaultdict(list)\n",
    "try:\n",
    "    for player, iterator in enumerate(iterator_list):\n",
    "        if player !=0 and player % 60  == 0:\n",
    "            time.sleep(1200)\n",
    "        #print \"Player : \", DK_names[player]\n",
    "        for idx, item in enumerate(iterator):\n",
    "            #print idx\n",
    "            if idx == 40:\n",
    "                break\n",
    "            if 'text' in item:\n",
    "                #blob = TextBlob(fix_text(item['text']))\n",
    "                #print DK_names[player],\": \", blob.raw\n",
    "                #print(blob.sentiment)\n",
    "                player_dict[lst[player]].append(item['text'])\n",
    "            elif 'message' in item:\n",
    "                raise Exception(item['message'])\n",
    "        with open('twitter_player_data.json', 'w') as fp:\n",
    "            text=json.dump(player_dict, fp, sort_keys=True, indent=2)\n",
    "except TwitterRequestError as e:\n",
    "    if e.status_code < 500:\n",
    "        # something needs to be fixed before re-connecting\n",
    "        raise\n",
    "    else:\n",
    "        # temporary interruption, re-try request\n",
    "        pass\n",
    "except TwitterConnectionError:\n",
    "    # temporary interruption, re-try request\n",
    "    pass"
   ]
  }
 ],
 "metadata": {
  "kernelspec": {
   "display_name": "Python 2",
   "language": "python",
   "name": "python2"
  },
  "language_info": {
   "codemirror_mode": {
    "name": "ipython",
    "version": 2
   },
   "file_extension": ".py",
   "mimetype": "text/x-python",
   "name": "python",
   "nbconvert_exporter": "python",
   "pygments_lexer": "ipython2",
   "version": "2.7.11"
  }
 },
 "nbformat": 4,
 "nbformat_minor": 0
}
