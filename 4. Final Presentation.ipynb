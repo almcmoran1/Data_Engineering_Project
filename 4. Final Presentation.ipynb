{
 "cells": [
  {
   "cell_type": "markdown",
   "metadata": {},
   "source": [
    "# Getting an Edge in Fantasy Baseball Betting\n",
    "\n",
    "\n",
    "<img src=\"images/Draft_Kings.png\" style=\"width: 700px;\"/>\n"
   ]
  },
  {
   "cell_type": "markdown",
   "metadata": {},
   "source": [
    "** Founded in 2012**\n",
    "\n",
    "** Online fantasy betting for multiple sports**\n",
    "\n",
    "** CEO is number 8 on Fortunes 2015 40 under 40 list**\n",
    "\n",
    "** 30 million in revenue for 2014**"
   ]
  },
  {
   "cell_type": "markdown",
   "metadata": {},
   "source": [
    "**Motivation**\n",
    "\n",
    "http://datashoptalk.com/double-yo-money/"
   ]
  },
  {
   "cell_type": "markdown",
   "metadata": {},
   "source": [
    "## How does Draft Kings work?\n",
    "\n",
    "<img src=\"images/DK_lineups.png\" style=\"width: 700px;\"/>"
   ]
  },
  {
   "cell_type": "markdown",
   "metadata": {},
   "source": [
    "## How to get an edge over the competition?\n",
    "\n",
    "### Player Statistics + Twitter = Edge\n",
    "![alt-text-1](images/MLB.png)![alt-text-2](images/plus_sign.png)![alt-text-3](images/twitter.png)![alt-text-4](images/equal.png)![alt-text-4](images/edge.png)"
   ]
  },
  {
   "cell_type": "markdown",
   "metadata": {},
   "source": [
    "## Does Sentiment actually work in sports?\n",
    "\n",
    "**Research shows Twitter activity can predict on-court performance**\n",
    "\n",
    "https://www.rit.edu/news/story.php?id=54526\n",
    "\n",
    "### Examples\n",
    "\n",
    "**On Feb. 13, 2013, Durant posted the following message at 9:07 a.m: \"@DijahineedYa happy birthday shorty.\"**\n",
    "\n",
    "**Durant later contributed 18 points in an overwhelming victory against the New Orleans Pelicans with a high plus-minus (+31).**\n",
    "\n",
    "**James Harden of the Houston Rockets shared three optimistic tweets at 9:13 a.m., 9:14 a.m. and 2:15 p.m. on April 14, 2013—the earliest message reading, \"Happy Birthday Big Bro!!!!@Baron_Davis luv ya my G. Continue to inspire people. I’m one of them.\"**\n",
    "\n",
    "**Harden went on to score 29 points in a win against the Sacramento Kings, four points above his average for the year**\n",
    "\n",
    "** Kobe Bryant at 5:12 p.m. on Feb. 10, 2013: \"@onepercentofone @pookeo9 exactly! That wasn’t cool and was ignorant on my part. I own it and learn from it and expect the same from others.\"**\n",
    "\n",
    "**Bryant had a remarkably low performance plus-minus score that night (-14) and the Los Angeles Lakers lost the game to Miami Heat.**"
   ]
  },
  {
   "cell_type": "markdown",
   "metadata": {},
   "source": [
    "## Architecture\n",
    "\n",
    "<img src=\"images/MLB_Twitter_DE_diagram2.png\" style=\"width: 600px;\"/>"
   ]
  },
  {
   "cell_type": "markdown",
   "metadata": {},
   "source": [
    "## Scraping MLB Data and Downloading DK Data"
   ]
  },
  {
   "cell_type": "markdown",
   "metadata": {},
   "source": [
    "[1. a. Gather_Baseball_Stats](1. Gather_Baseball_Stats.ipynb)\n",
    "\n",
    "[1. b. Gather_Draft_Kings](https://www.draftkings.com/lobby#/featured)"
   ]
  },
  {
   "cell_type": "markdown",
   "metadata": {},
   "source": [
    "## Gathering Twitter Data about Players"
   ]
  },
  {
   "cell_type": "markdown",
   "metadata": {},
   "source": [
    "[2. a. Pitchers_stream_processing_MLB_tweets](Twitter_Streamer.py)\n",
    "\n",
    "[2. b. Batters_stream_processing_MLB_tweets](Twitter_Streamer_batters.py)"
   ]
  },
  {
   "cell_type": "markdown",
   "metadata": {},
   "source": [
    "## Joining Twitter Data in Spark"
   ]
  },
  {
   "cell_type": "markdown",
   "metadata": {},
   "source": [
    "[3. Matching_up_the_Data](3. Matching_up_the_Data.ipynb)"
   ]
  },
  {
   "cell_type": "markdown",
   "metadata": {},
   "source": [
    "## More Joining in Postgres"
   ]
  },
  {
   "cell_type": "markdown",
   "metadata": {
    "collapsed": true
   },
   "source": [
    "<img src=\"images/postgrest.png\" style=\"width: 500px;\"/>"
   ]
  },
  {
   "cell_type": "markdown",
   "metadata": {},
   "source": [
    "[4. DB_Build_and_Queries](MLB_DB_and_Queries.sql)"
   ]
  },
  {
   "cell_type": "markdown",
   "metadata": {},
   "source": [
    "## Version 2.0"
   ]
  },
  {
   "cell_type": "markdown",
   "metadata": {
    "collapsed": true
   },
   "source": [
    "** Integrate with Twitter Streaming API**\n",
    "\n",
    "** Filter on tweets from reliable sources (sports beat writers and players themselves)**\n",
    "\n",
    "** Clean tweets better before performing sentiment analyis**\n",
    "\n",
    "** Integrate Twitter Streaming layer with Spark Streaming**\n",
    "\n",
    "** Automate the process to work in real time environment**\n",
    "\n",
    "** Add more sources of data (ESPN stats from last 7 days, injury information)**\n",
    "\n",
    "** Implement on AWS (S3, EC2)**\n",
    "\n",
    "** Implement ML Algorithm to make me some cash to pay for Galvanize tuition**"
   ]
  },
  {
   "cell_type": "markdown",
   "metadata": {},
   "source": [
    "## Somebody decided to make a company out of it"
   ]
  },
  {
   "cell_type": "markdown",
   "metadata": {},
   "source": [
    "https://swishanalytics.com/"
   ]
  }
 ],
 "metadata": {
  "kernelspec": {
   "display_name": "Python 2",
   "language": "python",
   "name": "python2"
  },
  "language_info": {
   "codemirror_mode": {
    "name": "ipython",
    "version": 2
   },
   "file_extension": ".py",
   "mimetype": "text/x-python",
   "name": "python",
   "nbconvert_exporter": "python",
   "pygments_lexer": "ipython2",
   "version": "2.7.11"
  }
 },
 "nbformat": 4,
 "nbformat_minor": 0
}
