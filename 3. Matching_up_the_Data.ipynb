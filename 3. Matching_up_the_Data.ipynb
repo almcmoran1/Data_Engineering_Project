{
 "cells": [
  {
   "cell_type": "markdown",
   "metadata": {},
   "source": [
    "### Matching MLB Player Stats with Weekly Twitter Sentiment"
   ]
  },
  {
   "cell_type": "code",
   "execution_count": 26,
   "metadata": {
    "collapsed": true
   },
   "outputs": [],
   "source": [
    "from ftfy import fix_text\n",
    "from textblob import TextBlob\n",
    "import pandas as pd\n",
    "from collections import defaultdict\n",
    "import json\n",
    "import os\n",
    "import sys\n",
    "from pprint import pprint"
   ]
  },
  {
   "cell_type": "markdown",
   "metadata": {},
   "source": [
    "### Tabular MLB Stats data Spark"
   ]
  },
  {
   "cell_type": "code",
   "execution_count": 19,
   "metadata": {
    "collapsed": true
   },
   "outputs": [],
   "source": [
    "# Start up spark context\n",
    "from pyspark import SparkContext\n",
    "sc.stop()\n",
    "sc = SparkContext()"
   ]
  },
  {
   "cell_type": "code",
   "execution_count": 79,
   "metadata": {
    "collapsed": true
   },
   "outputs": [],
   "source": [
    "#Grab draftkings and MLB data\n",
    "data_pitchers = pd.read_csv(\"../Data_Engineering_Project/data/pitchers_2016_06_26.csv\")\n",
    "data_batters = pd.read_csv(\"../Data_Engineering_Project/data/batters_2016_06_26.csv\")\n",
    "data_DK = pd.read_csv(\"../Data_Engineering_Project/data/DKSalaries_2016_06_26.csv\")\n",
    "\n",
    "#Grab the player's names as unique ID\n",
    "pitchers_names = data_pitchers[\"Player Name\"]\n",
    "batters_names = data_batters[\"Player Name\"]\n",
    "DK_names = data_DK[\"Name\"]\n"
   ]
  },
  {
   "cell_type": "code",
   "execution_count": 353,
   "metadata": {
    "collapsed": false
   },
   "outputs": [
    {
     "data": {
      "text/html": [
       "<div>\n",
       "<table border=\"1\" class=\"dataframe\">\n",
       "  <thead>\n",
       "    <tr style=\"text-align: right;\">\n",
       "      <th></th>\n",
       "      <th>Unnamed: 0</th>\n",
       "      <th>Player Name</th>\n",
       "      <th>Team</th>\n",
       "      <th>Games</th>\n",
       "      <th>Innings Pitched</th>\n",
       "      <th>Starts</th>\n",
       "      <th>Quality Starts</th>\n",
       "      <th>Quality Start %</th>\n",
       "      <th>K/BB</th>\n",
       "      <th>K/9IP</th>\n",
       "      <th>BB/9IP</th>\n",
       "      <th>HR/9IP</th>\n",
       "      <th>Batting Avg on Balls IP</th>\n",
       "      <th>Strand Rate</th>\n",
       "      <th>FB VLO</th>\n",
       "      <th>ERA</th>\n",
       "      <th>Fielding Ind Pitching</th>\n",
       "    </tr>\n",
       "  </thead>\n",
       "  <tbody>\n",
       "    <tr>\n",
       "      <th>0</th>\n",
       "      <td>1</td>\n",
       "      <td>Clayton Kershaw</td>\n",
       "      <td>LAD</td>\n",
       "      <td>15</td>\n",
       "      <td>115.0</td>\n",
       "      <td>15</td>\n",
       "      <td>14</td>\n",
       "      <td>93.3</td>\n",
       "      <td>20.14</td>\n",
       "      <td>11.03</td>\n",
       "      <td>0.55</td>\n",
       "      <td>0.47</td>\n",
       "      <td>0.259</td>\n",
       "      <td>80.3</td>\n",
       "      <td>93.0</td>\n",
       "      <td>1.57</td>\n",
       "      <td>1.61</td>\n",
       "    </tr>\n",
       "    <tr>\n",
       "      <th>1</th>\n",
       "      <td>2</td>\n",
       "      <td>Johnny Cueto</td>\n",
       "      <td>SF</td>\n",
       "      <td>15</td>\n",
       "      <td>109.3</td>\n",
       "      <td>15</td>\n",
       "      <td>13</td>\n",
       "      <td>86.7</td>\n",
       "      <td>4.57</td>\n",
       "      <td>7.90</td>\n",
       "      <td>1.73</td>\n",
       "      <td>0.25</td>\n",
       "      <td>0.283</td>\n",
       "      <td>79.0</td>\n",
       "      <td>91.4</td>\n",
       "      <td>2.06</td>\n",
       "      <td>2.40</td>\n",
       "    </tr>\n",
       "    <tr>\n",
       "      <th>2</th>\n",
       "      <td>3</td>\n",
       "      <td>Madison Bumgarner</td>\n",
       "      <td>SF</td>\n",
       "      <td>16</td>\n",
       "      <td>108.3</td>\n",
       "      <td>16</td>\n",
       "      <td>14</td>\n",
       "      <td>87.5</td>\n",
       "      <td>4.21</td>\n",
       "      <td>10.14</td>\n",
       "      <td>2.41</td>\n",
       "      <td>0.83</td>\n",
       "      <td>0.279</td>\n",
       "      <td>86.0</td>\n",
       "      <td>90.9</td>\n",
       "      <td>1.99</td>\n",
       "      <td>2.98</td>\n",
       "    </tr>\n",
       "    <tr>\n",
       "      <th>3</th>\n",
       "      <td>4</td>\n",
       "      <td>Zack Greinke</td>\n",
       "      <td>ARI</td>\n",
       "      <td>16</td>\n",
       "      <td>107.3</td>\n",
       "      <td>16</td>\n",
       "      <td>10</td>\n",
       "      <td>62.5</td>\n",
       "      <td>4.24</td>\n",
       "      <td>7.46</td>\n",
       "      <td>1.76</td>\n",
       "      <td>1.01</td>\n",
       "      <td>0.296</td>\n",
       "      <td>72.1</td>\n",
       "      <td>91.3</td>\n",
       "      <td>3.61</td>\n",
       "      <td>3.60</td>\n",
       "    </tr>\n",
       "    <tr>\n",
       "      <th>4</th>\n",
       "      <td>5</td>\n",
       "      <td>Max Scherzer</td>\n",
       "      <td>WAS</td>\n",
       "      <td>16</td>\n",
       "      <td>107.3</td>\n",
       "      <td>16</td>\n",
       "      <td>11</td>\n",
       "      <td>68.8</td>\n",
       "      <td>4.93</td>\n",
       "      <td>11.57</td>\n",
       "      <td>2.35</td>\n",
       "      <td>1.68</td>\n",
       "      <td>0.264</td>\n",
       "      <td>74.7</td>\n",
       "      <td>94.2</td>\n",
       "      <td>3.52</td>\n",
       "      <td>3.86</td>\n",
       "    </tr>\n",
       "  </tbody>\n",
       "</table>\n",
       "</div>"
      ],
      "text/plain": [
       "   Unnamed: 0        Player Name Team  Games  Innings Pitched  Starts  \\\n",
       "0           1    Clayton Kershaw  LAD     15            115.0      15   \n",
       "1           2       Johnny Cueto   SF     15            109.3      15   \n",
       "2           3  Madison Bumgarner   SF     16            108.3      16   \n",
       "3           4       Zack Greinke  ARI     16            107.3      16   \n",
       "4           5       Max Scherzer  WAS     16            107.3      16   \n",
       "\n",
       "   Quality Starts  Quality Start %   K/BB  K/9IP  BB/9IP  HR/9IP  \\\n",
       "0              14             93.3  20.14  11.03    0.55    0.47   \n",
       "1              13             86.7   4.57   7.90    1.73    0.25   \n",
       "2              14             87.5   4.21  10.14    2.41    0.83   \n",
       "3              10             62.5   4.24   7.46    1.76    1.01   \n",
       "4              11             68.8   4.93  11.57    2.35    1.68   \n",
       "\n",
       "   Batting Avg on Balls IP  Strand Rate  FB VLO   ERA  Fielding Ind Pitching  \n",
       "0                    0.259         80.3    93.0  1.57                   1.61  \n",
       "1                    0.283         79.0    91.4  2.06                   2.40  \n",
       "2                    0.279         86.0    90.9  1.99                   2.98  \n",
       "3                    0.296         72.1    91.3  3.61                   3.60  \n",
       "4                    0.264         74.7    94.2  3.52                   3.86  "
      ]
     },
     "execution_count": 353,
     "metadata": {},
     "output_type": "execute_result"
    }
   ],
   "source": [
    "data_pitchers.head()"
   ]
  },
  {
   "cell_type": "code",
   "execution_count": 355,
   "metadata": {
    "collapsed": false
   },
   "outputs": [
    {
     "data": {
      "text/plain": [
       "Index([u'Unnamed: 0', u'Player Name', u'Team', u'Games', u'Innings Pitched',\n",
       "       u'Starts', u'Quality Starts', u'Quality Start %', u'K/BB', u'K/9IP',\n",
       "       u'BB/9IP', u'HR/9IP', u'Batting Avg on Balls IP', u'Strand Rate',\n",
       "       u'FB VLO', u'ERA', u'Fielding Ind Pitching'],\n",
       "      dtype='object')"
      ]
     },
     "execution_count": 355,
     "metadata": {},
     "output_type": "execute_result"
    }
   ],
   "source": [
    "data_pitchers.columns"
   ]
  },
  {
   "cell_type": "code",
   "execution_count": 356,
   "metadata": {
    "collapsed": false
   },
   "outputs": [],
   "source": [
    "data_pitchers = data_pitchers.drop(\"Unnamed: 0\", 1)"
   ]
  },
  {
   "cell_type": "code",
   "execution_count": null,
   "metadata": {
    "collapsed": true
   },
   "outputs": [],
   "source": [
    "data_pitchers.to_csv(\"../Data_Engineering_Project/data/batters_2016_06_26_clean.csv\", sep=',')"
   ]
  },
  {
   "cell_type": "code",
   "execution_count": 76,
   "metadata": {
    "collapsed": false
   },
   "outputs": [],
   "source": [
    "##To clean the batters and pitchers keys\n",
    "def clean_key(df):\n",
    "    lst=[]\n",
    "    for i in df:\n",
    "        test = i.split(\",\")\n",
    "        test[0],test[1] = test[1],test[0]\n",
    "        test = test[0].strip() + \" \" + test[1]\n",
    "        lst.append(test)\n",
    "    return lst"
   ]
  },
  {
   "cell_type": "code",
   "execution_count": 80,
   "metadata": {
    "collapsed": false
   },
   "outputs": [],
   "source": [
    "pitchers_lst = clean_key(data_pitchers['Player Name'])"
   ]
  },
  {
   "cell_type": "code",
   "execution_count": 81,
   "metadata": {
    "collapsed": false
   },
   "outputs": [],
   "source": [
    "data_pitchers['Player Name'] = pitchers_lst"
   ]
  },
  {
   "cell_type": "code",
   "execution_count": 82,
   "metadata": {
    "collapsed": false
   },
   "outputs": [
    {
     "data": {
      "text/html": [
       "<div>\n",
       "<table border=\"1\" class=\"dataframe\">\n",
       "  <thead>\n",
       "    <tr style=\"text-align: right;\">\n",
       "      <th></th>\n",
       "      <th>Unnamed: 0</th>\n",
       "      <th>Player Name</th>\n",
       "      <th>Team</th>\n",
       "      <th>Games</th>\n",
       "      <th>Innings Pitched</th>\n",
       "      <th>Starts</th>\n",
       "      <th>Quality Starts</th>\n",
       "      <th>Quality Start %</th>\n",
       "      <th>K/BB</th>\n",
       "      <th>K/9IP</th>\n",
       "      <th>BB/9IP</th>\n",
       "      <th>HR/9IP</th>\n",
       "      <th>Batting Avg on Balls IP</th>\n",
       "      <th>Strand Rate</th>\n",
       "      <th>FB VLO</th>\n",
       "      <th>ERA</th>\n",
       "      <th>Fielding Ind Pitching</th>\n",
       "    </tr>\n",
       "  </thead>\n",
       "  <tbody>\n",
       "    <tr>\n",
       "      <th>0</th>\n",
       "      <td>1</td>\n",
       "      <td>Clayton Kershaw</td>\n",
       "      <td>LAD</td>\n",
       "      <td>15</td>\n",
       "      <td>115.0</td>\n",
       "      <td>15</td>\n",
       "      <td>14</td>\n",
       "      <td>93.3</td>\n",
       "      <td>20.14</td>\n",
       "      <td>11.03</td>\n",
       "      <td>0.55</td>\n",
       "      <td>0.47</td>\n",
       "      <td>0.259</td>\n",
       "      <td>80.3</td>\n",
       "      <td>93.0</td>\n",
       "      <td>1.57</td>\n",
       "      <td>1.61</td>\n",
       "    </tr>\n",
       "    <tr>\n",
       "      <th>1</th>\n",
       "      <td>2</td>\n",
       "      <td>Johnny Cueto</td>\n",
       "      <td>SF</td>\n",
       "      <td>15</td>\n",
       "      <td>109.3</td>\n",
       "      <td>15</td>\n",
       "      <td>13</td>\n",
       "      <td>86.7</td>\n",
       "      <td>4.57</td>\n",
       "      <td>7.90</td>\n",
       "      <td>1.73</td>\n",
       "      <td>0.25</td>\n",
       "      <td>0.283</td>\n",
       "      <td>79.0</td>\n",
       "      <td>91.4</td>\n",
       "      <td>2.06</td>\n",
       "      <td>2.40</td>\n",
       "    </tr>\n",
       "    <tr>\n",
       "      <th>2</th>\n",
       "      <td>3</td>\n",
       "      <td>Madison Bumgarner</td>\n",
       "      <td>SF</td>\n",
       "      <td>16</td>\n",
       "      <td>108.3</td>\n",
       "      <td>16</td>\n",
       "      <td>14</td>\n",
       "      <td>87.5</td>\n",
       "      <td>4.21</td>\n",
       "      <td>10.14</td>\n",
       "      <td>2.41</td>\n",
       "      <td>0.83</td>\n",
       "      <td>0.279</td>\n",
       "      <td>86.0</td>\n",
       "      <td>90.9</td>\n",
       "      <td>1.99</td>\n",
       "      <td>2.98</td>\n",
       "    </tr>\n",
       "  </tbody>\n",
       "</table>\n",
       "</div>"
      ],
      "text/plain": [
       "   Unnamed: 0        Player Name Team  Games  Innings Pitched  Starts  \\\n",
       "0           1    Clayton Kershaw  LAD     15            115.0      15   \n",
       "1           2       Johnny Cueto   SF     15            109.3      15   \n",
       "2           3  Madison Bumgarner   SF     16            108.3      16   \n",
       "\n",
       "   Quality Starts  Quality Start %   K/BB  K/9IP  BB/9IP  HR/9IP  \\\n",
       "0              14             93.3  20.14  11.03    0.55    0.47   \n",
       "1              13             86.7   4.57   7.90    1.73    0.25   \n",
       "2              14             87.5   4.21  10.14    2.41    0.83   \n",
       "\n",
       "   Batting Avg on Balls IP  Strand Rate  FB VLO   ERA  Fielding Ind Pitching  \n",
       "0                    0.259         80.3    93.0  1.57                   1.61  \n",
       "1                    0.283         79.0    91.4  2.06                   2.40  \n",
       "2                    0.279         86.0    90.9  1.99                   2.98  "
      ]
     },
     "execution_count": 82,
     "metadata": {},
     "output_type": "execute_result"
    }
   ],
   "source": [
    "data_pitchers.head(3)"
   ]
  },
  {
   "cell_type": "code",
   "execution_count": 83,
   "metadata": {
    "collapsed": true
   },
   "outputs": [],
   "source": [
    "#clean batters\n",
    "batters_lst = clean_key(data_batters[\"Player Name\"])\n",
    "data_batters['Player Name'] = batters_lst"
   ]
  },
  {
   "cell_type": "code",
   "execution_count": 84,
   "metadata": {
    "collapsed": false
   },
   "outputs": [
    {
     "data": {
      "text/html": [
       "<div>\n",
       "<table border=\"1\" class=\"dataframe\">\n",
       "  <thead>\n",
       "    <tr style=\"text-align: right;\">\n",
       "      <th></th>\n",
       "      <th>Unnamed: 0</th>\n",
       "      <th>Player Name</th>\n",
       "      <th>Team</th>\n",
       "      <th>Position</th>\n",
       "      <th>Games</th>\n",
       "      <th>ABs</th>\n",
       "      <th>Pitches Per AB</th>\n",
       "      <th>Bunts</th>\n",
       "      <th>Hit into DP</th>\n",
       "      <th>Intentional Walks</th>\n",
       "      <th>Walks</th>\n",
       "      <th>SOs</th>\n",
       "      <th>Walk Rate</th>\n",
       "      <th>W2SO Ratio</th>\n",
       "      <th>Contact Rate</th>\n",
       "      <th>Stolen Base Opportunity</th>\n",
       "      <th>Batting Average</th>\n",
       "      <th>Batting Average on BIP</th>\n",
       "    </tr>\n",
       "  </thead>\n",
       "  <tbody>\n",
       "    <tr>\n",
       "      <th>0</th>\n",
       "      <td>1</td>\n",
       "      <td>Mookie Betts</td>\n",
       "      <td>BOS</td>\n",
       "      <td>OF</td>\n",
       "      <td>74</td>\n",
       "      <td>326</td>\n",
       "      <td>3.72</td>\n",
       "      <td>5</td>\n",
       "      <td>6</td>\n",
       "      <td>0</td>\n",
       "      <td>21</td>\n",
       "      <td>51</td>\n",
       "      <td>6.1</td>\n",
       "      <td>0.41</td>\n",
       "      <td>84.4</td>\n",
       "      <td>16.5</td>\n",
       "      <td>0.291</td>\n",
       "      <td>0.305</td>\n",
       "    </tr>\n",
       "    <tr>\n",
       "      <th>1</th>\n",
       "      <td>2</td>\n",
       "      <td>Alcides Escobar</td>\n",
       "      <td>KC</td>\n",
       "      <td>SS</td>\n",
       "      <td>73</td>\n",
       "      <td>314</td>\n",
       "      <td>3.37</td>\n",
       "      <td>18</td>\n",
       "      <td>8</td>\n",
       "      <td>0</td>\n",
       "      <td>10</td>\n",
       "      <td>48</td>\n",
       "      <td>3.1</td>\n",
       "      <td>0.21</td>\n",
       "      <td>84.7</td>\n",
       "      <td>18.7</td>\n",
       "      <td>0.252</td>\n",
       "      <td>0.294</td>\n",
       "    </tr>\n",
       "    <tr>\n",
       "      <th>2</th>\n",
       "      <td>3</td>\n",
       "      <td>Xander Bogaerts</td>\n",
       "      <td>BOS</td>\n",
       "      <td>SS</td>\n",
       "      <td>73</td>\n",
       "      <td>310</td>\n",
       "      <td>3.80</td>\n",
       "      <td>2</td>\n",
       "      <td>6</td>\n",
       "      <td>0</td>\n",
       "      <td>26</td>\n",
       "      <td>50</td>\n",
       "      <td>7.7</td>\n",
       "      <td>0.52</td>\n",
       "      <td>83.9</td>\n",
       "      <td>11.7</td>\n",
       "      <td>0.345</td>\n",
       "      <td>0.390</td>\n",
       "    </tr>\n",
       "  </tbody>\n",
       "</table>\n",
       "</div>"
      ],
      "text/plain": [
       "   Unnamed: 0      Player Name Team Position  Games  ABs  Pitches Per AB  \\\n",
       "0           1     Mookie Betts  BOS       OF     74  326            3.72   \n",
       "1           2  Alcides Escobar   KC       SS     73  314            3.37   \n",
       "2           3  Xander Bogaerts  BOS       SS     73  310            3.80   \n",
       "\n",
       "   Bunts  Hit into DP  Intentional Walks  Walks  SOs  Walk Rate  W2SO Ratio  \\\n",
       "0      5            6                  0     21   51        6.1        0.41   \n",
       "1     18            8                  0     10   48        3.1        0.21   \n",
       "2      2            6                  0     26   50        7.7        0.52   \n",
       "\n",
       "   Contact Rate  Stolen Base Opportunity  Batting Average  \\\n",
       "0          84.4                     16.5            0.291   \n",
       "1          84.7                     18.7            0.252   \n",
       "2          83.9                     11.7            0.345   \n",
       "\n",
       "   Batting Average on BIP  \n",
       "0                   0.305  \n",
       "1                   0.294  \n",
       "2                   0.390  "
      ]
     },
     "execution_count": 84,
     "metadata": {},
     "output_type": "execute_result"
    }
   ],
   "source": [
    "data_batters.head(3)"
   ]
  },
  {
   "cell_type": "code",
   "execution_count": 357,
   "metadata": {
    "collapsed": true
   },
   "outputs": [],
   "source": [
    "#cleaned up data to load into postgress\n",
    "data_pitchers = data_pitchers.drop(\"Unnamed: 0\", 1)\n",
    "data_batters = data_batters.drop(\"Unnamed: 0\", 1)\n",
    "data_pitchers.to_csv(\"../Data_Engineering_Project/data/pitchers_2016_06_26_clean.csv\", sep=',')\n",
    "data_batters.to_csv(\"../Data_Engineering_Project/data/batters_2016_06_26_clean.csv\", sep=',')"
   ]
  },
  {
   "cell_type": "code",
   "execution_count": 85,
   "metadata": {
    "collapsed": false
   },
   "outputs": [],
   "source": [
    "#turn into spark dataframe for ease of joining later\n",
    "sqlCtx = SQLContext(sc)\n",
    "batters = sqlCtx.createDataFrame(data_batters)\n",
    "pitchers = sqlCtx.createDataFrame(data_pitchers)\n",
    "DraftKings = sqlCtx.createDataFrame(data_DK)\n"
   ]
  },
  {
   "cell_type": "code",
   "execution_count": 87,
   "metadata": {
    "collapsed": false
   },
   "outputs": [
    {
     "data": {
      "text/plain": [
       "[Row(Position=u'SP', Name=u'Clayton Kershaw', Salary=14200, GameInfo=u'LAD@Pit 08:08PM ET', AvgPointsPerGame=30.138, teamAbbrev=u'LAD'),\n",
       " Row(Position=u'SP', Name=u'Madison Bumgarner', Salary=13900, GameInfo=u'Phi@SF 04:05PM ET', AvgPointsPerGame=25.522, teamAbbrev=u'SF'),\n",
       " Row(Position=u'SP', Name=u'Johnny Cueto', Salary=13600, GameInfo=u'Phi@SF 04:05PM ET', AvgPointsPerGame=25.113000000000003, teamAbbrev=u'SF')]"
      ]
     },
     "execution_count": 87,
     "metadata": {},
     "output_type": "execute_result"
    }
   ],
   "source": [
    "DraftKings.take(3)"
   ]
  },
  {
   "cell_type": "markdown",
   "metadata": {},
   "source": [
    "### Streaming Data using Spark"
   ]
  },
  {
   "cell_type": "code",
   "execution_count": 231,
   "metadata": {
    "collapsed": true
   },
   "outputs": [],
   "source": [
    "#lets get the captured tweets locally\n",
    "with open('../Data_Engineering_Project/twitter_player_data.json') as data_file:    \n",
    "    pitcher_tweets = json.load(data_file)"
   ]
  },
  {
   "cell_type": "code",
   "execution_count": 259,
   "metadata": {
    "collapsed": false
   },
   "outputs": [
    {
     "name": "stdout",
     "output_type": "stream",
     "text": [
      " Number of pitchers: 219\n",
      "########################################\n"
     ]
    },
    {
     "data": {
      "text/plain": [
       "[[u'RT @ccari_argentina: Carri\\xf3, Zuvic y Fernando S\\xe1nchez piden que se investigue a Anibal Fern\\xe1ndez https://t.co/MfK5vKbT52\\n\\n\\xa1 Dale #RT ! http\\u2026',\n",
       "  u'Would you like to see Anibal Sanchez start against the Blue Jays?',\n",
       "  u'RT @ccari_argentina: Carri\\xf3, Zuvic y Fernando S\\xe1nchez piden que se investigue a Anibal Fern\\xe1ndez https://t.co/MfK5vKbT52\\n\\n\\xa1 Dale #RT ! http\\u2026',\n",
       "  u'RT @ccari_argentina: Carri\\xf3, Zuvic y Fernando S\\xe1nchez piden que se investigue a Anibal Fern\\xe1ndez https://t.co/MfK5vKbT52\\n\\n\\xa1 Dale #RT ! http\\u2026',\n",
       "  u'RT @ccari_argentina: Carri\\xf3, Zuvic y Fernando S\\xe1nchez piden que se investigue a Anibal Fern\\xe1ndez https://t.co/MfK5vKbT52\\n\\n\\xa1 Dale #RT ! http\\u2026',\n",
       "  u'RT @ccari_argentina: Carri\\xf3, Zuvic y Fernando S\\xe1nchez piden que se investigue a Anibal Fern\\xe1ndez https://t.co/MfK5vKbT52\\n\\n\\xa1 Dale #RT ! http\\u2026',\n",
       "  u'RT @ccari_argentina: Carri\\xf3, Zuvic y Fernando S\\xe1nchez piden que se investigue a Anibal Fern\\xe1ndez https://t.co/MfK5vKbT52\\n\\n\\xa1 Dale #RT ! http\\u2026',\n",
       "  u'Ausmus said Anibal Sanchez is still being considered to start. \"We just have to see how it works out over the course of the next 3 days.\"',\n",
       "  u'RT @ccari_argentina: Carri\\xf3, Zuvic y Fernando S\\xe1nchez piden que se investigue a Anibal Fern\\xe1ndez https://t.co/MfK5vKbT52\\n\\n\\xa1 Dale #RT ! http\\u2026',\n",
       "  u'RT @ccari_argentina: Carri\\xf3, Zuvic y Fernando S\\xe1nchez piden que se investigue a Anibal Fern\\xe1ndez https://t.co/MfK5vKbT52\\n\\n\\xa1 Dale #RT ! http\\u2026',\n",
       "  u'RT @ccari_argentina: Carri\\xf3, Zuvic y Fernando S\\xe1nchez piden que se investigue a Anibal Fern\\xe1ndez https://t.co/MfK5vKbT52\\n\\n\\xa1 Dale #RT ! http\\u2026',\n",
       "  u'RT @IgnacioSerrano: BREVES. Wilmer Font reemprende el camino a las mayores. Incluye notas de Eduardo Escobar, Inciarte y An\\xedbal S\\xe1nchez: ht\\u2026',\n",
       "  u'El venezolano An\\xedbal S\\xe1nchez no encuentra respuesta a sus problemas como abridor. De nuevo fue castigado el martes: https://t.co/pnBDRc1Jjx',\n",
       "  u'@GeorgeSipple suggestion to Al Avila Norris, Dixon, Moya,  for Pomeranaz\\n and Melvin Upton.  And try to get rid anibal Sanchez',\n",
       "  u'An\\xedbal S\\xe1nchez abrir\\xe1 por Tigres este martes https://t.co/PivyUM3VHv',\n",
       "  u'@IAmJamesStewart Anibal Sanchez...needs a new start',\n",
       "  u'El venezolano An\\xedbal S\\xe1nchez no encuentra soluci\\xf3n a sus problemas como abridor. De nuevo fue castigado el martes: https://t.co/pnBDRc1Jjx',\n",
       "  u'#MLB Indians 12, #Tigers 1: Anibal Sanchez hammered again https://t.co/R5FACPatcZ https://t.co/jq5XajMdsB',\n",
       "  u'RT @CaraotaDigital: Carlos Carrasco dom\\xf3 a los Tigres y amarg\\xf3 salida de An\\xedbal S\\xe1nchez https://t.co/p04YJdAhwJ https://t.co/Pe2DY9TYeJ',\n",
       "  u'Carlos Carrasco dom\\xf3 a los Tigres y amarg\\xf3 salida de An\\xedbal S\\xe1nchez https://t.co/p04YJdAhwJ https://t.co/Pe2DY9TYeJ',\n",
       "  u'#Tigers #Souvenirs Detroit Tigers Anibal Sanchez Bobblehead 2015 Kids Only\\u2026 https://t.co/7Ap39EgHWg #Fans #Apparel https://t.co/MHNkyEtRFL',\n",
       "  u'RT @joomla: Joomla! 3.6 Release Candidate 2 Released https://t.co/FNKw1HBzpD #joomla',\n",
       "  u'#MLB Anibal Sanchez yanked early, Tigers bashed again in 11th straight loss to ... https://t.co/zBqBL92HP6 https://t.co/o8ci1s7qMv',\n",
       "  u'#BaseBall #Buzz #Detroit #Tigers Anibal Sanchez Bobblehead 2015 Kids Only SGA #MLB Baseball NIB https://t.co/SxySrK8ugl #Forsale #Deals',\n",
       "  u'RT @CaraotaDigital: Carlos Carrasco dom\\xf3 a los Tigres y amarg\\xf3 salida de An\\xedbal S\\xe1nchez https://t.co/5PNfgdoSgf https://t.co/oX2EMfQnpp',\n",
       "  u'Carlos Carrasco dom\\xf3 a los Tigres y amarg\\xf3 salida de An\\xedbal S\\xe1nchez https://t.co/5PNfgdoSgf https://t.co/oX2EMfQnpp',\n",
       "  u'@TheRoar_24 Anibal Sanchez is a tire fire, so doubt they use him',\n",
       "  u'RT @CaraotaDigital: Carlos Carrasco dom\\xf3 a los Tigres y amarg\\xf3 salida de An\\xedbal S\\xe1nchez https://t.co/5PNfgdoSgf https://t.co/o0kjuT6yXg',\n",
       "  u'Carlos Carrasco dom\\xf3 a los Tigres y amarg\\xf3 salida de An\\xedbal S\\xe1nchez https://t.co/5PNfgdoSgf https://t.co/o0kjuT6yXg',\n",
       "  u'RT @artilespascual: Hoy duelo 81 entre criollos An\\xedbal S\\xe1nchez Vs Carlos Carrasco @tigers @Indians por @TeleTTV @LeDioConElCodo @WilCastell\\u2026',\n",
       "  u'RT @CaraotaDigital: Carlos Carrasco dom\\xf3 a los Tigres y amarg\\xf3 salida de An\\xedbal S\\xe1nchez https://t.co/5PNfgdoSgf https://t.co/E4OZY5WHQ4',\n",
       "  u'RT @CaraotaDigital: Carlos Carrasco dom\\xf3 a los Tigres y amarg\\xf3 salida de An\\xedbal S\\xe1nchez https://t.co/5PNfgdoSgf https://t.co/E4OZY5WHQ4',\n",
       "  u'#MLB #DetroitTigers Detroit Tigers Anibal Sanchez Bobblehead 2015 Kids\\u2026 https://t.co/YDBH928vmK #BaseBall #Deals https://t.co/yGworV8exp',\n",
       "  u'RT @CaraotaDigital: Carlos Carrasco dom\\xf3 a los Tigres y amarg\\xf3 salida de An\\xedbal S\\xe1nchez https://t.co/5PNfgdoSgf https://t.co/E4OZY5WHQ4',\n",
       "  u'Carlos Carrasco dom\\xf3 a los Tigres y amarg\\xf3 salida de An\\xedbal S\\xe1nchez https://t.co/5PNfgdoSgf https://t.co/E4OZY5WHQ4',\n",
       "  u'Tigers vs BLUE JAYS\\nThursday Verlander vs Hutchison\\nFriday Pelfry vs Happ\\nSaturday TBA vs Sanchez\\nSunday Anibal Sanchez vs Dickey',\n",
       "  u'Carlos Carrasco dom\\xf3 a los Tigres y amarg\\xf3 salida de An\\xedbal S\\xe1nchez https://t.co/p04YJdAhwJ https://t.co/Pe2DY9TYeJ',\n",
       "  u'RT @IgnacioSerrano: El venezolano An\\xedbal S\\xe1nchez no encuentra soluci\\xf3n a sus problemas como abridor. De nuevo fue castigado el martes: http\\u2026',\n",
       "  u'Carlos Carrasco dom\\xf3 a los Tigres y amarg\\xf3 salida de An\\xedbal S\\xe1nchez https://t.co/5PNfgdoSgf https://t.co/blRk9gKmJP',\n",
       "  u'RT @CaraotaDigital: Carlos Carrasco dom\\xf3 a los Tigres y amarg\\xf3 salida de An\\xedbal S\\xe1nchez https://t.co/5PNfgdoSgf https://t.co/EGZrQtLLWF'],\n",
       " [u'@ChrisBrown0914 contained in that ranking was the idea of dealing for Brandon Maurer',\n",
       "  u'https://t.co/yLQO4kwyeo Peep my piece @RotoBaller on Brandon Maurer! @fleaflicker #FantasyBaseball #MLB #Baseball #closers #SDP #Padres',\n",
       "  u'ICYMI: Brandon Maurer (RP, SD) - Waiver Wire Pickups https://t.co/n4OG0JUX0k by @TheBradyGrove',\n",
       "  u'2013 Topps Chrome #102 Brandon Maurer Seattle Mariners Auto Baseball Card 3q5 https://t.co/Qt5Xol2QOS https://t.co/hdcmqujKzY',\n",
       "  u'Brandon Maurer (RP, SD) - Waiver Wire Pickups https://t.co/n4OG0JUX0k by @TheBradyGrove',\n",
       "  u'#SanDiegoPadres #Padres Maurer hoping to join pantheon of Padres closers https://t.co/AdY4wgSo39',\n",
       "  u'#SanDiegoPadres #Padres Maurer weathers storm for first career save https://t.co/Cg51tS8LTV',\n",
       "  u\"@yxf117 Right now it seems to be Maurer. But there are no rules. As long as Brandon is throwing well, though, it's him.\",\n",
       "  u'The Price is Right dropped RP Brandon Maurer',\n",
       "  u'Jul  4, 3 Daily Fantasy Stars, RP: Cody #Allen, David #Phelps, Brandon #Maurer, https://t.co/h6mTZi2Q0T #MLB',\n",
       "  u\"RT @DHSD619: Paul Goldschmidt didn't want any part of Brandon Maurer as he watches 3 straight 96 MPH+ fastballs go by to end the game. PADS\\u2026\",\n",
       "  u\"RT @DHSD619: Paul Goldschmidt didn't want any part of Brandon Maurer as he watches 3 straight 96 MPH+ fastballs go by to end the game. PADS\\u2026\",\n",
       "  u\"Paul Goldschmidt didn't want any part of Brandon Maurer as he watches 3 straight 96 MPH+ fastballs go by to end the game. PADS WIN 8-4!!\",\n",
       "  u'Brandon Maurer - San Diego Padres 2 (from bullpen)',\n",
       "  u'#Padres @ #Dbacks [B9-3o]: Paul Goldschmidt (looking)\\n\\nRHP Brandon Maurer\\nSeq: FF\\u25cb FF\\u25cb FF\\u25cb\\ns3: 97.0mph Four-seamer',\n",
       "  u'Brandon Maurer - San Diego Padres 1 (from bullpen)',\n",
       "  u'#Padres @ #Dbacks [B9-1o]: Jean Segura (swinging)\\n\\nRHP Brandon Maurer\\nSeq: SL\\u25cb ff SL FF\\xd7\\ns3: 96.8mph Four-seamer',\n",
       "  u'Brandon Maurer recorded the first save of his career on Friday night vs. the Yankees.',\n",
       "  u'Search for new Padres closer has LABR owners speculating on Brandon Maurer\\nhttps://t.co/Q5XNpmHzP7',\n",
       "  u'Lots of love for Brandon Maurer.  https://t.co/xBxHaxL1mN',\n",
       "  u'Today on @SiriusXMFantasy 7:05 #DFS Baseball &amp; 2 Start Pitchers 7:15- Brandon Maurer at 6:09 #DEATHOFBASEBALLISEXAGGERATED',\n",
       "  u\"Brandon Maurer / Padres' Brandon Maurer Should see save chances  #MLB #SD\",\n",
       "  u'Brandon Maurer / Maurer should be in line for saves with Fernando Rodney out,  #MLB #SD',\n",
       "  u'Brandon Maurer / Maurer should be in line for saves with Fernando Rodney in Miami,  #MLB #SD',\n",
       "  u'RT @Padres: Wishing Brandon Maurer a very happy birthday! \\U0001f606\\U0001f382\\U0001f389 https://t.co/XOMySaYJmX',\n",
       "  u'RT @Padres: Wishing Brandon Maurer a very happy birthday! \\U0001f606\\U0001f382\\U0001f389 https://t.co/XOMySaYJmX',\n",
       "  u'RT @Padres: Wishing Brandon Maurer a very happy birthday! \\U0001f606\\U0001f382\\U0001f389 https://t.co/XOMySaYJmX',\n",
       "  u'RT @Padres: Wishing Brandon Maurer a very happy birthday! \\U0001f606\\U0001f382\\U0001f389 https://t.co/XOMySaYJmX',\n",
       "  u'RT @Padres: Wishing Brandon Maurer a very happy birthday! \\U0001f606\\U0001f382\\U0001f389 https://t.co/XOMySaYJmX',\n",
       "  u'RT @Padres: Wishing Brandon Maurer a very happy birthday! \\U0001f606\\U0001f382\\U0001f389 https://t.co/XOMySaYJmX',\n",
       "  u'RT @Padres: Wishing Brandon Maurer a very happy birthday! \\U0001f606\\U0001f382\\U0001f389 https://t.co/XOMySaYJmX',\n",
       "  u'RT @Padres: Wishing Brandon Maurer a very happy birthday! \\U0001f606\\U0001f382\\U0001f389 https://t.co/XOMySaYJmX',\n",
       "  u'HAPPY BIRTHDAY Brandon Maurer wishing you a great day, a Padres WIN to end the day',\n",
       "  u'RT @Padres: Wishing Brandon Maurer a very happy birthday! \\U0001f606\\U0001f382\\U0001f389 https://t.co/XOMySaYJmX',\n",
       "  u'A happy birthday to @Padres pitcher Brandon Maurer. https://t.co/Gc8Pqf1sIQ',\n",
       "  u'RT @Padres: Wishing Brandon Maurer a very happy birthday! \\U0001f606\\U0001f382\\U0001f389 https://t.co/XOMySaYJmX',\n",
       "  u'RT @Padres: Wishing Brandon Maurer a very happy birthday! \\U0001f606\\U0001f382\\U0001f389 https://t.co/XOMySaYJmX',\n",
       "  u'RT @Padres: Wishing Brandon Maurer a very happy birthday! \\U0001f606\\U0001f382\\U0001f389 https://t.co/XOMySaYJmX',\n",
       "  u'RT @Padres: Wishing Brandon Maurer a very happy birthday! \\U0001f606\\U0001f382\\U0001f389 https://t.co/XOMySaYJmX',\n",
       "  u'RT @Padres: Wishing Brandon Maurer a very happy birthday! \\U0001f606\\U0001f382\\U0001f389 https://t.co/XOMySaYJmX']]"
      ]
     },
     "execution_count": 259,
     "metadata": {},
     "output_type": "execute_result"
    }
   ],
   "source": [
    "#quick look at the data - 40 tweets per player\n",
    "pitchers_keys =pitcher_tweets.keys()\n",
    "pitcher_rdd = sc.parallelize(pitchers_keys)\n",
    "print \"Number of pitchers:\", len(pitchers_keys)\n",
    "print \"#\"*40\n",
    "pitcher_rdd.map(lambda x: pitcher_tweets[x]).take(2)"
   ]
  },
  {
   "cell_type": "code",
   "execution_count": 177,
   "metadata": {
    "collapsed": true
   },
   "outputs": [],
   "source": [
    "#https://realpython.com/blog/python/twitter-sentiment-python-docker-elasticsearch-kibana/\n",
    "#turn numerical sentiment into values\n",
    "def sentiment(data): \n",
    "    if data < 0.0:\n",
    "        return \"negative\"\n",
    "    elif data == 0.0:\n",
    "        return \"neutral\"\n",
    "    else:\n",
    "        return \"positive\""
   ]
  },
  {
   "cell_type": "code",
   "execution_count": 249,
   "metadata": {
    "collapsed": false
   },
   "outputs": [],
   "source": [
    "#combine tweets for sentiment analysis and add index\n",
    "def sentiment_tweets(rdd,tweets):\n",
    "    \"Concatenate the tweets, make textblob, apply sentiment analysis, add index\"\n",
    "    return rdd.map(lambda x: \"\".join(tweets[x]))\n",
    "    .map(lambda x: TextBlob(fix_text(x)))\n",
    "    .map(lambda x: x.sentiment.polarity).map(sentiment).zipWithIndex()"
   ]
  },
  {
   "cell_type": "code",
   "execution_count": 260,
   "metadata": {
    "collapsed": false
   },
   "outputs": [
    {
     "name": "stdout",
     "output_type": "stream",
     "text": [
      "[('positive', 0), ('positive', 1), ('positive', 2), ('positive', 3), ('negative', 4)] Pitcher count: 219\n"
     ]
    }
   ],
   "source": [
    "#build pitcher sentiment rdd and sanity check\n",
    "pitcher_sentiment_rdd = sentiment_tweets(pitcher_rdd, pitcher_tweets)\n",
    "print pitcher_sentiment_rdd.take(5), \"Pitcher count:\", pitcher_sentiment_rdd.count()"
   ]
  },
  {
   "cell_type": "code",
   "execution_count": 273,
   "metadata": {
    "collapsed": true
   },
   "outputs": [],
   "source": [
    "#create sql context and rename columns\n",
    "def sqlcntx(rdd,name1,name2):\n",
    "    return sqlCtx.createDataFrame(rdd).withColumnRenamed('_1', name1).withColumnRenamed('_2',name2)"
   ]
  },
  {
   "cell_type": "code",
   "execution_count": 274,
   "metadata": {
    "collapsed": false
   },
   "outputs": [
    {
     "data": {
      "text/plain": [
       "[Row(Sentiment=u'positive', Index=0),\n",
       " Row(Sentiment=u'positive', Index=1),\n",
       " Row(Sentiment=u'positive', Index=2),\n",
       " Row(Sentiment=u'positive', Index=3),\n",
       " Row(Sentiment=u'negative', Index=4)]"
      ]
     },
     "execution_count": 274,
     "metadata": {},
     "output_type": "execute_result"
    }
   ],
   "source": [
    "#create dataframe and sanity check\n",
    "pitcher_sentiment_df = sqlcntx(pitcher_sentiment_rdd,\"Sentiment\",\"Index\")\n",
    "pitcher_sentiment_df.take(5)"
   ]
  },
  {
   "cell_type": "code",
   "execution_count": 262,
   "metadata": {
    "collapsed": true
   },
   "outputs": [],
   "source": [
    "#create index rdd\n",
    "def key_rdd(tweets):\n",
    "    \"Create an index for each pitcher\"\n",
    "    keys = tweets.keys()\n",
    "    keys = map(lambda x : str(x),keys)\n",
    "    return sc.parallelize(keys).zipWithIndex()"
   ]
  },
  {
   "cell_type": "code",
   "execution_count": 263,
   "metadata": {
    "collapsed": false
   },
   "outputs": [
    {
     "data": {
      "text/plain": [
       "[('Anibal Sanchez', 0), ('Brandon Maurer', 1), ('Felix Hernandez', 2)]"
      ]
     },
     "execution_count": 263,
     "metadata": {},
     "output_type": "execute_result"
    }
   ],
   "source": [
    "pitchers_keys = key_rdd(pitcher_tweets)    \n",
    "pitchers_keys.take(3)"
   ]
  },
  {
   "cell_type": "code",
   "execution_count": 275,
   "metadata": {
    "collapsed": false
   },
   "outputs": [
    {
     "data": {
      "text/plain": [
       "[Row(Name=u'Anibal Sanchez', Index=0),\n",
       " Row(Name=u'Brandon Maurer', Index=1),\n",
       " Row(Name=u'Felix Hernandez', Index=2)]"
      ]
     },
     "execution_count": 275,
     "metadata": {},
     "output_type": "execute_result"
    }
   ],
   "source": [
    "#rename columns for pitchers\n",
    "pitchers_key_sprkdf = sqlcntx(pitchers_keys, \"Name\", \"Index\")\n",
    "pitchers_key_sprkdf.take(3)"
   ]
  },
  {
   "cell_type": "code",
   "execution_count": 323,
   "metadata": {
    "collapsed": false
   },
   "outputs": [],
   "source": [
    "def sprk_df_join(df1,df2,key1,key2,kind = 'inner'):\n",
    "    \"Join two spark dataframes\"\n",
    "    return df1.join(df2,df1[key1]==df2[key2],kind).drop(df2[key2])"
   ]
  },
  {
   "cell_type": "code",
   "execution_count": 326,
   "metadata": {
    "collapsed": false
   },
   "outputs": [],
   "source": [
    "pitcher_joined_rdd = sprk_df_join(pitchers_key_sprkdf,pitcher_sentiment_df,\"Index\",\"Index\")"
   ]
  },
  {
   "cell_type": "code",
   "execution_count": 327,
   "metadata": {
    "collapsed": false
   },
   "outputs": [
    {
     "data": {
      "text/plain": [
       "[Row(Name=u'Adam Wainwright', Index=31, Sentiment=u'positive'),\n",
       " Row(Name=u'Chad Bettis', Index=32, Sentiment=u'positive'),\n",
       " Row(Name=u'Dan Jennings', Index=33, Sentiment=u'positive'),\n",
       " Row(Name=u'Zack Greinke', Index=34, Sentiment=u'positive'),\n",
       " Row(Name=u'Robbie Ray', Index=35, Sentiment=u'positive'),\n",
       " Row(Name=u'Phil Hughes', Index=36, Sentiment=u'positive'),\n",
       " Row(Name=u'Joe Blanton', Index=37, Sentiment=u'negative'),\n",
       " Row(Name=u'Matt Moore', Index=38, Sentiment=u'positive'),\n",
       " Row(Name=u'Drew Pomeranz', Index=39, Sentiment=u'positive'),\n",
       " Row(Name=u'Chris Young', Index=40, Sentiment=u'positive'),\n",
       " Row(Name=u'Jeremy Hellickson', Index=41, Sentiment=u'positive'),\n",
       " Row(Name=u'Cody Anderson', Index=42, Sentiment=u'positive'),\n",
       " Row(Name=u'Doug Fister', Index=43, Sentiment=u'positive'),\n",
       " Row(Name=u'Clayton Kershaw', Index=44, Sentiment=u'positive'),\n",
       " Row(Name=u'Sean Manaea', Index=45, Sentiment=u'negative'),\n",
       " Row(Name=u'Nate Jones', Index=46, Sentiment=u'positive'),\n",
       " Row(Name=u'Ivan Nova', Index=47, Sentiment=u'positive'),\n",
       " Row(Name=u'Dan Straily', Index=48, Sentiment=u'positive'),\n",
       " Row(Name=u'Aaron Blair', Index=49, Sentiment=u'positive'),\n",
       " Row(Name=u'Patrick Corbin', Index=50, Sentiment=u'positive'),\n",
       " Row(Name=u'Jeff Samardzija', Index=51, Sentiment=u'positive'),\n",
       " Row(Name=u'Nick Tropeano', Index=52, Sentiment=u'positive'),\n",
       " Row(Name=u'Vance Worley', Index=53, Sentiment=u'negative'),\n",
       " Row(Name=u'Steve Cishek', Index=54, Sentiment=u'positive'),\n",
       " Row(Name=u'Wily Peralta', Index=55, Sentiment=u'positive'),\n",
       " Row(Name=u'Eric Surkamp', Index=56, Sentiment=u'negative'),\n",
       " Row(Name=u'Bartolo Colon', Index=57, Sentiment=u'positive'),\n",
       " Row(Name=u'Matt Cain', Index=58, Sentiment=u'positive'),\n",
       " Row(Name=u'Jon Lester', Index=59, Sentiment=u'positive'),\n",
       " Row(Name=u'Dallas Keuchel', Index=60, Sentiment=u'positive')]"
      ]
     },
     "execution_count": 327,
     "metadata": {},
     "output_type": "execute_result"
    }
   ],
   "source": [
    "pitcher_joined_rdd.take(30)"
   ]
  },
  {
   "cell_type": "code",
   "execution_count": 342,
   "metadata": {
    "collapsed": true
   },
   "outputs": [],
   "source": [
    "pitchers_df_final = pitcher_joined_rdd.toPandas()"
   ]
  },
  {
   "cell_type": "code",
   "execution_count": 345,
   "metadata": {
    "collapsed": false
   },
   "outputs": [],
   "source": [
    "#drop the index...dont't need it anymore\n",
    "pitchers_df_final = pitchers_df_final.drop('Index',1)"
   ]
  },
  {
   "cell_type": "code",
   "execution_count": 347,
   "metadata": {
    "collapsed": false
   },
   "outputs": [
    {
     "data": {
      "text/html": [
       "<div>\n",
       "<table border=\"1\" class=\"dataframe\">\n",
       "  <thead>\n",
       "    <tr style=\"text-align: right;\">\n",
       "      <th></th>\n",
       "      <th>Name</th>\n",
       "      <th>Sentiment</th>\n",
       "    </tr>\n",
       "  </thead>\n",
       "  <tbody>\n",
       "    <tr>\n",
       "      <th>0</th>\n",
       "      <td>Adam Wainwright</td>\n",
       "      <td>positive</td>\n",
       "    </tr>\n",
       "    <tr>\n",
       "      <th>1</th>\n",
       "      <td>Chad Bettis</td>\n",
       "      <td>positive</td>\n",
       "    </tr>\n",
       "    <tr>\n",
       "      <th>2</th>\n",
       "      <td>Dan Jennings</td>\n",
       "      <td>positive</td>\n",
       "    </tr>\n",
       "    <tr>\n",
       "      <th>3</th>\n",
       "      <td>Zack Greinke</td>\n",
       "      <td>positive</td>\n",
       "    </tr>\n",
       "    <tr>\n",
       "      <th>4</th>\n",
       "      <td>Robbie Ray</td>\n",
       "      <td>positive</td>\n",
       "    </tr>\n",
       "  </tbody>\n",
       "</table>\n",
       "</div>"
      ],
      "text/plain": [
       "              Name Sentiment\n",
       "0  Adam Wainwright  positive\n",
       "1      Chad Bettis  positive\n",
       "2     Dan Jennings  positive\n",
       "3     Zack Greinke  positive\n",
       "4       Robbie Ray  positive"
      ]
     },
     "execution_count": 347,
     "metadata": {},
     "output_type": "execute_result"
    }
   ],
   "source": [
    "pitchers_df_final.head()"
   ]
  },
  {
   "cell_type": "code",
   "execution_count": 349,
   "metadata": {
    "collapsed": true
   },
   "outputs": [],
   "source": [
    "#cleaned up data to load into postgress\n",
    "pitchers_df_final.to_csv(\"../Data_Engineering_Project/data/pitchers_2016_06_26_sentiment.csv\", sep=',', header=False)"
   ]
  },
  {
   "cell_type": "code",
   "execution_count": 358,
   "metadata": {
    "collapsed": false
   },
   "outputs": [
    {
     "name": "stdout",
     "output_type": "stream",
     "text": [
      "Number of batters: 249\n",
      "########################################\n"
     ]
    }
   ],
   "source": [
    "#Now for the batters\n",
    "with open('../Data_Engineering_Project/twitter_batter_data.json') as data_file:    \n",
    "    batters_tweets = json.load(data_file)\n",
    "batters_keys =batters_tweets.keys()\n",
    "batter_rdd = sc.parallelize(batters_keys)    \n",
    "print \"Number of batters:\", len(batters_keys)\n",
    "print \"#\"*40\n",
    "#batter_rdd.map(lambda x: batters_tweets[x]).take(2)"
   ]
  },
  {
   "cell_type": "code",
   "execution_count": 359,
   "metadata": {
    "collapsed": false
   },
   "outputs": [
    {
     "name": "stdout",
     "output_type": "stream",
     "text": [
      "[('positive', 0), ('negative', 1), ('positive', 2), ('negative', 3), ('positive', 4)] Batter count: 249\n"
     ]
    }
   ],
   "source": [
    "#build batter sentiment rdd and sanity check\n",
    "batter_sentiment_rdd = sentiment_tweets(batter_rdd, batters_tweets)\n",
    "print batter_sentiment_rdd.take(5), \"Batter count:\", batter_sentiment_rdd.count()"
   ]
  },
  {
   "cell_type": "code",
   "execution_count": 360,
   "metadata": {
    "collapsed": false
   },
   "outputs": [
    {
     "data": {
      "text/plain": [
       "[Row(Sentiment=u'positive', Index=0),\n",
       " Row(Sentiment=u'negative', Index=1),\n",
       " Row(Sentiment=u'positive', Index=2),\n",
       " Row(Sentiment=u'negative', Index=3),\n",
       " Row(Sentiment=u'positive', Index=4)]"
      ]
     },
     "execution_count": 360,
     "metadata": {},
     "output_type": "execute_result"
    }
   ],
   "source": [
    "#create dataframe and sanity check\n",
    "batter_sentiment_df = sqlcntx(batter_sentiment_rdd, \"Sentiment\",\"Index\")\n",
    "batter_sentiment_df.take(5)"
   ]
  },
  {
   "cell_type": "code",
   "execution_count": 361,
   "metadata": {
    "collapsed": false
   },
   "outputs": [
    {
     "data": {
      "text/plain": [
       "[('Rougned Odor', 0),\n",
       " ('Justin Upton', 1),\n",
       " ('Anthony Rendon', 2),\n",
       " ('Chris Coghlan', 3),\n",
       " ('Brad Miller', 4),\n",
       " ('Jason Heyward', 5),\n",
       " ('Jeff Francoeur', 6),\n",
       " ('Melvin Upton Jr.', 7),\n",
       " ('Norichika Aoki', 8),\n",
       " ('Ryan Braun', 9)]"
      ]
     },
     "execution_count": 361,
     "metadata": {},
     "output_type": "execute_result"
    }
   ],
   "source": [
    "batter_keys = key_rdd(batters_tweets)    \n",
    "batter_keys.take(10)"
   ]
  },
  {
   "cell_type": "code",
   "execution_count": 362,
   "metadata": {
    "collapsed": false
   },
   "outputs": [
    {
     "data": {
      "text/plain": [
       "[Row(Name=u'Rougned Odor', Index=0),\n",
       " Row(Name=u'Justin Upton', Index=1),\n",
       " Row(Name=u'Anthony Rendon', Index=2)]"
      ]
     },
     "execution_count": 362,
     "metadata": {},
     "output_type": "execute_result"
    }
   ],
   "source": [
    "#rename columns for batters\n",
    "batters_key_sprkdf = sqlcntx(batter_keys, \"Name\", \"Index\")\n",
    "batters_key_sprkdf.take(3)"
   ]
  },
  {
   "cell_type": "code",
   "execution_count": 363,
   "metadata": {
    "collapsed": false
   },
   "outputs": [],
   "source": [
    "batter_joined_rdd = sprk_df_join(batters_key_sprkdf,batter_sentiment_df,\"Index\",\"Index\")"
   ]
  },
  {
   "cell_type": "code",
   "execution_count": 364,
   "metadata": {
    "collapsed": false,
    "scrolled": true
   },
   "outputs": [
    {
     "data": {
      "text/plain": [
       "[Row(Name=u'John Jaso', Index=31, Sentiment=u'negative'),\n",
       " Row(Name=u'Nick Markakis', Index=231, Sentiment=u'positive'),\n",
       " Row(Name=u'Trevor Story', Index=32, Sentiment=u'positive'),\n",
       " Row(Name=u'David Ortiz', Index=232, Sentiment=u'positive'),\n",
       " Row(Name=u'Manny Machado', Index=33, Sentiment=u'positive'),\n",
       " Row(Name=u'Ben Zobrist', Index=233, Sentiment=u'negative'),\n",
       " Row(Name=u'Albert Pujols', Index=34, Sentiment=u'positive'),\n",
       " Row(Name=u'Todd Frazier', Index=234, Sentiment=u'positive'),\n",
       " Row(Name=u'Billy Hamilton', Index=35, Sentiment=u'positive'),\n",
       " Row(Name=u'Andrelton Simmons', Index=235, Sentiment=u'positive'),\n",
       " Row(Name=u'Ramon Flores', Index=36, Sentiment=u'positive'),\n",
       " Row(Name=u'Coco Crisp', Index=236, Sentiment=u'positive'),\n",
       " Row(Name=u'Starlin Castro', Index=37, Sentiment=u'positive'),\n",
       " Row(Name=u'Brian Dozier', Index=237, Sentiment=u'positive'),\n",
       " Row(Name=u'Jimmy Rollins', Index=38, Sentiment=u'positive'),\n",
       " Row(Name=u'Martin Prado', Index=238, Sentiment=u'negative'),\n",
       " Row(Name=u'Neil Walker', Index=39, Sentiment=u'positive'),\n",
       " Row(Name=u'Colby Rasmus', Index=239, Sentiment=u'positive'),\n",
       " Row(Name=u'Joe Panik', Index=40, Sentiment=u'negative'),\n",
       " Row(Name=u'Jake Lamb', Index=240, Sentiment=u'positive'),\n",
       " Row(Name=u'Freddy Galvis', Index=41, Sentiment=u'positive'),\n",
       " Row(Name=u'Chase Headley', Index=241, Sentiment=u'positive'),\n",
       " Row(Name=u'Juan Uribe', Index=42, Sentiment=u'negative'),\n",
       " Row(Name=u'Yonder Alonso', Index=242, Sentiment=u'negative'),\n",
       " Row(Name=u'Daniel Murphy', Index=43, Sentiment=u'positive'),\n",
       " Row(Name=u'Russell Martin', Index=243, Sentiment=u'negative'),\n",
       " Row(Name=u'Jason Castro', Index=44, Sentiment=u'positive'),\n",
       " Row(Name=u'Matt Carpenter', Index=244, Sentiment=u'positive'),\n",
       " Row(Name=u'David Freese', Index=45, Sentiment=u'positive'),\n",
       " Row(Name=u'C.J. Cron', Index=245, Sentiment=u'negative')]"
      ]
     },
     "execution_count": 364,
     "metadata": {},
     "output_type": "execute_result"
    }
   ],
   "source": [
    "batter_joined_rdd.take(30)"
   ]
  },
  {
   "cell_type": "code",
   "execution_count": 367,
   "metadata": {
    "collapsed": true
   },
   "outputs": [],
   "source": [
    "batters_df_final = batter_joined_rdd.toPandas()"
   ]
  },
  {
   "cell_type": "code",
   "execution_count": 368,
   "metadata": {
    "collapsed": false
   },
   "outputs": [
    {
     "data": {
      "text/html": [
       "<div>\n",
       "<table border=\"1\" class=\"dataframe\">\n",
       "  <thead>\n",
       "    <tr style=\"text-align: right;\">\n",
       "      <th></th>\n",
       "      <th>Name</th>\n",
       "      <th>Index</th>\n",
       "      <th>Sentiment</th>\n",
       "    </tr>\n",
       "  </thead>\n",
       "  <tbody>\n",
       "    <tr>\n",
       "      <th>0</th>\n",
       "      <td>John Jaso</td>\n",
       "      <td>31</td>\n",
       "      <td>negative</td>\n",
       "    </tr>\n",
       "    <tr>\n",
       "      <th>1</th>\n",
       "      <td>Nick Markakis</td>\n",
       "      <td>231</td>\n",
       "      <td>positive</td>\n",
       "    </tr>\n",
       "    <tr>\n",
       "      <th>2</th>\n",
       "      <td>Trevor Story</td>\n",
       "      <td>32</td>\n",
       "      <td>positive</td>\n",
       "    </tr>\n",
       "    <tr>\n",
       "      <th>3</th>\n",
       "      <td>David Ortiz</td>\n",
       "      <td>232</td>\n",
       "      <td>positive</td>\n",
       "    </tr>\n",
       "    <tr>\n",
       "      <th>4</th>\n",
       "      <td>Manny Machado</td>\n",
       "      <td>33</td>\n",
       "      <td>positive</td>\n",
       "    </tr>\n",
       "  </tbody>\n",
       "</table>\n",
       "</div>"
      ],
      "text/plain": [
       "            Name  Index Sentiment\n",
       "0      John Jaso     31  negative\n",
       "1  Nick Markakis    231  positive\n",
       "2   Trevor Story     32  positive\n",
       "3    David Ortiz    232  positive\n",
       "4  Manny Machado     33  positive"
      ]
     },
     "execution_count": 368,
     "metadata": {},
     "output_type": "execute_result"
    }
   ],
   "source": [
    "batters_df_final.head()"
   ]
  },
  {
   "cell_type": "code",
   "execution_count": 369,
   "metadata": {
    "collapsed": true
   },
   "outputs": [],
   "source": [
    "batters_df_final = batters_df_final.drop('Index',1)"
   ]
  },
  {
   "cell_type": "code",
   "execution_count": 370,
   "metadata": {
    "collapsed": false
   },
   "outputs": [
    {
     "data": {
      "text/html": [
       "<div>\n",
       "<table border=\"1\" class=\"dataframe\">\n",
       "  <thead>\n",
       "    <tr style=\"text-align: right;\">\n",
       "      <th></th>\n",
       "      <th>Name</th>\n",
       "      <th>Sentiment</th>\n",
       "    </tr>\n",
       "  </thead>\n",
       "  <tbody>\n",
       "    <tr>\n",
       "      <th>0</th>\n",
       "      <td>John Jaso</td>\n",
       "      <td>negative</td>\n",
       "    </tr>\n",
       "    <tr>\n",
       "      <th>1</th>\n",
       "      <td>Nick Markakis</td>\n",
       "      <td>positive</td>\n",
       "    </tr>\n",
       "    <tr>\n",
       "      <th>2</th>\n",
       "      <td>Trevor Story</td>\n",
       "      <td>positive</td>\n",
       "    </tr>\n",
       "    <tr>\n",
       "      <th>3</th>\n",
       "      <td>David Ortiz</td>\n",
       "      <td>positive</td>\n",
       "    </tr>\n",
       "    <tr>\n",
       "      <th>4</th>\n",
       "      <td>Manny Machado</td>\n",
       "      <td>positive</td>\n",
       "    </tr>\n",
       "  </tbody>\n",
       "</table>\n",
       "</div>"
      ],
      "text/plain": [
       "            Name Sentiment\n",
       "0      John Jaso  negative\n",
       "1  Nick Markakis  positive\n",
       "2   Trevor Story  positive\n",
       "3    David Ortiz  positive\n",
       "4  Manny Machado  positive"
      ]
     },
     "execution_count": 370,
     "metadata": {},
     "output_type": "execute_result"
    }
   ],
   "source": [
    "batters_df_final.head()"
   ]
  },
  {
   "cell_type": "code",
   "execution_count": 371,
   "metadata": {
    "collapsed": true
   },
   "outputs": [],
   "source": [
    "#cleaned up data to load into postgress\n",
    "batters_df_final.to_csv(\"../Data_Engineering_Project/data/batters_2016_06_26_sentiment.csv\", sep=',', header=False)"
   ]
  }
 ],
 "metadata": {
  "kernelspec": {
   "display_name": "Python 2",
   "language": "python",
   "name": "python2"
  },
  "language_info": {
   "codemirror_mode": {
    "name": "ipython",
    "version": 2
   },
   "file_extension": ".py",
   "mimetype": "text/x-python",
   "name": "python",
   "nbconvert_exporter": "python",
   "pygments_lexer": "ipython2",
   "version": "2.7.11"
  }
 },
 "nbformat": 4,
 "nbformat_minor": 0
}
